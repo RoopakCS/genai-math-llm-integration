{
 "cells": [
  {
   "cell_type": "code",
   "execution_count": 22,
   "id": "0ed483fe",
   "metadata": {
    "height": 115
   },
   "outputs": [],
   "source": [
    "import os\n",
    "import openai\n",
    "\n",
    "from dotenv import load_dotenv, find_dotenv\n",
    "_ = load_dotenv(find_dotenv()) # read local .env file\n",
    "openai.api_key = os.environ['OPENAI_API_KEY']"
   ]
  },
  {
   "cell_type": "code",
   "execution_count": 23,
   "id": "18b90ce4",
   "metadata": {
    "height": 81
   },
   "outputs": [],
   "source": [
    "def calculate_cylinder_volume(radius, height):\n",
    "    \"\"\"Calculate the volume of a cylinder given its radius and height.\"\"\"\n",
    "    import math\n",
    "    return math.pi * radius**2 * height"
   ]
  },
  {
   "cell_type": "code",
   "execution_count": null,
   "id": "a2cb74ef",
   "metadata": {
    "height": 319
   },
   "outputs": [],
   "source": [
    "function_schema = {\n",
    "    \"name\": \"calculate_cylinder_volume\",\n",
    "    \"description\": \"Calculate the volume of a cylinder given its radius and height\",\n",
    "    \"parameters\": {\n",
    "        \"type\": \"object\",\n",
    "        \"properties\": {\n",
    "            \"radius\": {\n",
    "                \"type\": \"number\",\n",
    "                \"description\": \"The radius of the cylinder base\",\n",
    "            },\n",
    "            \"height\": {\n",
    "                \"type\": \"number\",\n",
    "                \"description\": \"The height of the cylinder\",\n",
    "            },\n",
    "        },\n",
    "        \"required\": [\"radius\", \"height\"],\n",
    "    },\n",
    "}"
   ]
  },
  {
   "cell_type": "code",
   "execution_count": null,
   "id": "a20b6495",
   "metadata": {
    "height": 608
   },
   "outputs": [],
   "source": [
    "def chat_with_llm(user_input):\n",
    "    # OpenAI API call for chat completion\n",
    "    response = openai.ChatCompletion.create(\n",
    "        model=\"gpt-4-0613\",  # Function-calling supported model\n",
    "        messages=[{\"role\": \"user\", \"content\": user_input}],\n",
    "        functions=[function_schema],\n",
    "        function_call=\"auto\",  # Let the LLM decide when to use the function\n",
    "    )\n",
    "\n",
    "    # Check if a function call is needed\n",
    "    if response.choices[0].message.get(\"function_call\"):\n",
    "        function_call = response.choices[0].message[\"function_call\"]\n",
    "        # Extract arguments\n",
    "        arguments = eval(function_call[\"arguments\"])  # Use safe parsing methods in production\n",
    "        radius = arguments[\"radius\"]\n",
    "        height = arguments[\"height\"]\n",
    "\n",
    "        # Calculate volume\n",
    "        volume = calculate_cylinder_volume(radius, height)\n",
    "\n",
    "        # Send the result back to the LLM for a final response\n",
    "        response = openai.ChatCompletion.create(\n",
    "            model=\"gpt-4-0613\",\n",
    "            messages=[\n",
    "                {\"role\": \"user\", \"content\": user_input},\n",
    "                response.choices[0].message,  # Include the function call\n",
    "                {\n",
    "                    \"role\": \"function\",\n",
    "                    \"name\": \"calculate_cylinder_volume\",\n",
    "                    \"content\": str(volume),\n",
    "                },\n",
    "            ],\n",
    "        )\n",
    "    \n",
    "    return response.choices[0].message[\"content\"]"
   ]
  },
  {
   "cell_type": "code",
   "execution_count": null,
   "id": "0d6ebca2",
   "metadata": {
    "height": 81
   },
   "outputs": [],
   "source": [
    "# Example interaction\n",
    "user_input = \"What is the volume of a cylinder with radius 3 and height 5?\"\n",
    "output = chat_with_llm(user_input)\n",
    "print(output)"
   ]
  }
 ],
 "metadata": {
  "kernelspec": {
   "display_name": "Python 3 (ipykernel)",
   "language": "python",
   "name": "python3"
  },
  "language_info": {
   "codemirror_mode": {
    "name": "ipython",
    "version": 3
   },
   "file_extension": ".py",
   "mimetype": "text/x-python",
   "name": "python",
   "nbconvert_exporter": "python",
   "pygments_lexer": "ipython3",
   "version": "3.9.19"
  }
 },
 "nbformat": 4,
 "nbformat_minor": 5
}
